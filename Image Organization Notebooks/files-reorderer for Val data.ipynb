{
 "cells": [
  {
   "cell_type": "markdown",
   "id": "c32ce5df",
   "metadata": {},
   "source": [
    "# Image File Clasification and Reordering "
   ]
  },
  {
   "cell_type": "markdown",
   "id": "0fcf9370",
   "metadata": {},
   "source": [
    "## Import libraries"
   ]
  },
  {
   "cell_type": "code",
   "execution_count": 1,
   "id": "5d61047e",
   "metadata": {},
   "outputs": [],
   "source": [
    "%config IPCompleter.greedy=True"
   ]
  },
  {
   "cell_type": "code",
   "execution_count": 2,
   "id": "54ff7913",
   "metadata": {},
   "outputs": [],
   "source": [
    "import numpy as np\n",
    "import pandas as pd\n",
    "import os\n",
    "import shutil"
   ]
  },
  {
   "cell_type": "markdown",
   "id": "e2a81c34",
   "metadata": {},
   "source": [
    "## Read Dataset with the image information"
   ]
  },
  {
   "cell_type": "code",
   "execution_count": 3,
   "id": "a05bef34",
   "metadata": {},
   "outputs": [],
   "source": [
    "df = pd.read_csv('metadata - Validation.csv')"
   ]
  },
  {
   "cell_type": "code",
   "execution_count": 4,
   "id": "7e92ecab",
   "metadata": {},
   "outputs": [
    {
     "data": {
      "text/html": [
       "<div>\n",
       "<style scoped>\n",
       "    .dataframe tbody tr th:only-of-type {\n",
       "        vertical-align: middle;\n",
       "    }\n",
       "\n",
       "    .dataframe tbody tr th {\n",
       "        vertical-align: top;\n",
       "    }\n",
       "\n",
       "    .dataframe thead th {\n",
       "        text-align: right;\n",
       "    }\n",
       "</style>\n",
       "<table border=\"1\" class=\"dataframe\">\n",
       "  <thead>\n",
       "    <tr style=\"text-align: right;\">\n",
       "      <th></th>\n",
       "      <th>isic_id</th>\n",
       "      <th>attribution</th>\n",
       "      <th>copyright_license</th>\n",
       "      <th>age_approx</th>\n",
       "      <th>anatom_site_general</th>\n",
       "      <th>benign_malignant</th>\n",
       "      <th>clin_size_long_diam_mm</th>\n",
       "      <th>dermoscopic_type</th>\n",
       "      <th>diagnosis</th>\n",
       "      <th>diagnosis_confirm_type</th>\n",
       "      <th>family_hx_mm</th>\n",
       "      <th>image_type</th>\n",
       "      <th>lesion_id</th>\n",
       "      <th>melanocytic</th>\n",
       "      <th>nevus_type</th>\n",
       "      <th>patient_id</th>\n",
       "      <th>personal_hx_mm</th>\n",
       "      <th>sex</th>\n",
       "    </tr>\n",
       "  </thead>\n",
       "  <tbody>\n",
       "    <tr>\n",
       "      <th>0</th>\n",
       "      <td>ISIC_0001769</td>\n",
       "      <td>Anonymous</td>\n",
       "      <td>CC-0</td>\n",
       "      <td>15.0</td>\n",
       "      <td>NaN</td>\n",
       "      <td>benign</td>\n",
       "      <td>NaN</td>\n",
       "      <td>NaN</td>\n",
       "      <td>nevus</td>\n",
       "      <td>single image expert consensus</td>\n",
       "      <td>NaN</td>\n",
       "      <td>dermoscopic</td>\n",
       "      <td>NaN</td>\n",
       "      <td>True</td>\n",
       "      <td>NaN</td>\n",
       "      <td>NaN</td>\n",
       "      <td>NaN</td>\n",
       "      <td>female</td>\n",
       "    </tr>\n",
       "    <tr>\n",
       "      <th>1</th>\n",
       "      <td>ISIC_0001852</td>\n",
       "      <td>Anonymous</td>\n",
       "      <td>CC-0</td>\n",
       "      <td>10.0</td>\n",
       "      <td>NaN</td>\n",
       "      <td>benign</td>\n",
       "      <td>NaN</td>\n",
       "      <td>NaN</td>\n",
       "      <td>nevus</td>\n",
       "      <td>single image expert consensus</td>\n",
       "      <td>NaN</td>\n",
       "      <td>dermoscopic</td>\n",
       "      <td>NaN</td>\n",
       "      <td>True</td>\n",
       "      <td>NaN</td>\n",
       "      <td>NaN</td>\n",
       "      <td>NaN</td>\n",
       "      <td>female</td>\n",
       "    </tr>\n",
       "    <tr>\n",
       "      <th>2</th>\n",
       "      <td>ISIC_0001871</td>\n",
       "      <td>Anonymous</td>\n",
       "      <td>CC-0</td>\n",
       "      <td>15.0</td>\n",
       "      <td>NaN</td>\n",
       "      <td>benign</td>\n",
       "      <td>NaN</td>\n",
       "      <td>NaN</td>\n",
       "      <td>nevus</td>\n",
       "      <td>single image expert consensus</td>\n",
       "      <td>NaN</td>\n",
       "      <td>dermoscopic</td>\n",
       "      <td>NaN</td>\n",
       "      <td>True</td>\n",
       "      <td>NaN</td>\n",
       "      <td>NaN</td>\n",
       "      <td>NaN</td>\n",
       "      <td>male</td>\n",
       "    </tr>\n",
       "    <tr>\n",
       "      <th>3</th>\n",
       "      <td>ISIC_0003462</td>\n",
       "      <td>Anonymous</td>\n",
       "      <td>CC-0</td>\n",
       "      <td>15.0</td>\n",
       "      <td>NaN</td>\n",
       "      <td>benign</td>\n",
       "      <td>NaN</td>\n",
       "      <td>NaN</td>\n",
       "      <td>nevus</td>\n",
       "      <td>single image expert consensus</td>\n",
       "      <td>NaN</td>\n",
       "      <td>dermoscopic</td>\n",
       "      <td>NaN</td>\n",
       "      <td>True</td>\n",
       "      <td>NaN</td>\n",
       "      <td>NaN</td>\n",
       "      <td>NaN</td>\n",
       "      <td>female</td>\n",
       "    </tr>\n",
       "    <tr>\n",
       "      <th>4</th>\n",
       "      <td>ISIC_0003539</td>\n",
       "      <td>Anonymous</td>\n",
       "      <td>CC-0</td>\n",
       "      <td>15.0</td>\n",
       "      <td>NaN</td>\n",
       "      <td>benign</td>\n",
       "      <td>NaN</td>\n",
       "      <td>NaN</td>\n",
       "      <td>nevus</td>\n",
       "      <td>single image expert consensus</td>\n",
       "      <td>NaN</td>\n",
       "      <td>dermoscopic</td>\n",
       "      <td>NaN</td>\n",
       "      <td>True</td>\n",
       "      <td>NaN</td>\n",
       "      <td>NaN</td>\n",
       "      <td>NaN</td>\n",
       "      <td>female</td>\n",
       "    </tr>\n",
       "  </tbody>\n",
       "</table>\n",
       "</div>"
      ],
      "text/plain": [
       "        isic_id attribution copyright_license  age_approx anatom_site_general  \\\n",
       "0  ISIC_0001769   Anonymous              CC-0        15.0                 NaN   \n",
       "1  ISIC_0001852   Anonymous              CC-0        10.0                 NaN   \n",
       "2  ISIC_0001871   Anonymous              CC-0        15.0                 NaN   \n",
       "3  ISIC_0003462   Anonymous              CC-0        15.0                 NaN   \n",
       "4  ISIC_0003539   Anonymous              CC-0        15.0                 NaN   \n",
       "\n",
       "  benign_malignant  clin_size_long_diam_mm dermoscopic_type diagnosis  \\\n",
       "0           benign                     NaN              NaN     nevus   \n",
       "1           benign                     NaN              NaN     nevus   \n",
       "2           benign                     NaN              NaN     nevus   \n",
       "3           benign                     NaN              NaN     nevus   \n",
       "4           benign                     NaN              NaN     nevus   \n",
       "\n",
       "          diagnosis_confirm_type family_hx_mm   image_type lesion_id  \\\n",
       "0  single image expert consensus          NaN  dermoscopic       NaN   \n",
       "1  single image expert consensus          NaN  dermoscopic       NaN   \n",
       "2  single image expert consensus          NaN  dermoscopic       NaN   \n",
       "3  single image expert consensus          NaN  dermoscopic       NaN   \n",
       "4  single image expert consensus          NaN  dermoscopic       NaN   \n",
       "\n",
       "   melanocytic nevus_type patient_id personal_hx_mm     sex  \n",
       "0         True        NaN        NaN            NaN  female  \n",
       "1         True        NaN        NaN            NaN  female  \n",
       "2         True        NaN        NaN            NaN    male  \n",
       "3         True        NaN        NaN            NaN  female  \n",
       "4         True        NaN        NaN            NaN  female  "
      ]
     },
     "execution_count": 4,
     "metadata": {},
     "output_type": "execute_result"
    }
   ],
   "source": [
    "df.head()"
   ]
  },
  {
   "cell_type": "code",
   "execution_count": 5,
   "id": "a31c1102",
   "metadata": {},
   "outputs": [
    {
     "data": {
      "text/plain": [
       "0"
      ]
     },
     "execution_count": 5,
     "metadata": {},
     "output_type": "execute_result"
    }
   ],
   "source": [
    "df.benign_malignant.isnull().sum()"
   ]
  },
  {
   "cell_type": "code",
   "execution_count": 6,
   "id": "0173d076",
   "metadata": {},
   "outputs": [
    {
     "data": {
      "text/plain": [
       "0"
      ]
     },
     "execution_count": 6,
     "metadata": {},
     "output_type": "execute_result"
    }
   ],
   "source": [
    "df.diagnosis.isnull().sum()"
   ]
  },
  {
   "cell_type": "code",
   "execution_count": 7,
   "id": "4fee3f51",
   "metadata": {},
   "outputs": [
    {
     "data": {
      "text/plain": [
       "<bound method Series.unique of 0      benign\n",
       "1      benign\n",
       "2      benign\n",
       "3      benign\n",
       "4      benign\n",
       "        ...  \n",
       "145    benign\n",
       "146    benign\n",
       "147    benign\n",
       "148    benign\n",
       "149    benign\n",
       "Name: benign_malignant, Length: 150, dtype: object>"
      ]
     },
     "execution_count": 7,
     "metadata": {},
     "output_type": "execute_result"
    }
   ],
   "source": [
    "df.benign_malignant.unique"
   ]
  },
  {
   "cell_type": "code",
   "execution_count": 8,
   "id": "e2e0b3e9",
   "metadata": {},
   "outputs": [
    {
     "data": {
      "text/plain": [
       "<bound method Series.unique of 0      nevus\n",
       "1      nevus\n",
       "2      nevus\n",
       "3      nevus\n",
       "4      nevus\n",
       "       ...  \n",
       "145    nevus\n",
       "146    nevus\n",
       "147    nevus\n",
       "148    nevus\n",
       "149    nevus\n",
       "Name: diagnosis, Length: 150, dtype: object>"
      ]
     },
     "execution_count": 8,
     "metadata": {},
     "output_type": "execute_result"
    }
   ],
   "source": [
    "df.diagnosis.unique"
   ]
  },
  {
   "cell_type": "code",
   "execution_count": 9,
   "id": "fac8b4a2",
   "metadata": {},
   "outputs": [
    {
     "data": {
      "text/plain": [
       "0"
      ]
     },
     "execution_count": 9,
     "metadata": {},
     "output_type": "execute_result"
    }
   ],
   "source": [
    "(df.benign_malignant[df.diagnosis == \"seborrheic keratosis\"] == \"malignant\").sum()"
   ]
  },
  {
   "cell_type": "code",
   "execution_count": 10,
   "id": "e66435c1",
   "metadata": {},
   "outputs": [
    {
     "data": {
      "text/plain": [
       "0"
      ]
     },
     "execution_count": 10,
     "metadata": {},
     "output_type": "execute_result"
    }
   ],
   "source": [
    "(df.benign_malignant[df.diagnosis == \"nevus\"] == \"malignant\").sum()"
   ]
  },
  {
   "cell_type": "code",
   "execution_count": 11,
   "id": "f069e429",
   "metadata": {},
   "outputs": [
    {
     "data": {
      "text/plain": [
       "0"
      ]
     },
     "execution_count": 11,
     "metadata": {},
     "output_type": "execute_result"
    }
   ],
   "source": [
    "(df.benign_malignant[df.diagnosis == \"melanoma\"] == \"benign\").sum()"
   ]
  },
  {
   "cell_type": "markdown",
   "id": "3788ab69",
   "metadata": {},
   "source": [
    "## Move files to the clasified folders"
   ]
  },
  {
   "cell_type": "code",
   "execution_count": 12,
   "id": "2120178a",
   "metadata": {},
   "outputs": [],
   "source": [
    "def move_file(filename, source_directory, destination_directory):\n",
    "    # Construct the full paths for source and destination\n",
    "    source_path = os.path.join(source_directory, filename)\n",
    "    destination_path = os.path.join(destination_directory, filename)\n",
    "\n",
    "    try:\n",
    "        # Move the file to the destination folder\n",
    "        shutil.move(source_path, destination_path)\n",
    "        print(f\"File '{filename}' moved successfully to '{destination_directory}'.\")\n",
    "    except FileNotFoundError:\n",
    "        print(f\"File '{filename}' not found in '{source_directory}'.\")\n",
    "    except Exception as e:\n",
    "        print(f\"Error moving file '{filename}': {e}\")"
   ]
  },
  {
   "cell_type": "code",
   "execution_count": 15,
   "id": "83056282",
   "metadata": {},
   "outputs": [
    {
     "name": "stdout",
     "output_type": "stream",
     "text": [
      "File 'ISIC_0001769.jpg' moved successfully to 'ISIC-images/val/nevus'.\n",
      "File 'ISIC_0001852.jpg' moved successfully to 'ISIC-images/val/nevus'.\n",
      "File 'ISIC_0001871.jpg' moved successfully to 'ISIC-images/val/nevus'.\n",
      "File 'ISIC_0003462.jpg' moved successfully to 'ISIC-images/val/nevus'.\n",
      "File 'ISIC_0003539.jpg' moved successfully to 'ISIC-images/val/nevus'.\n",
      "File 'ISIC_0003582.jpg' moved successfully to 'ISIC-images/val/nevus'.\n",
      "File 'ISIC_0003657.jpg' moved successfully to 'ISIC-images/val/nevus'.\n",
      "File 'ISIC_0003805.jpg' moved successfully to 'ISIC-images/val/nevus'.\n",
      "File 'ISIC_0004337.jpg' moved successfully to 'ISIC-images/val/nevus'.\n",
      "File 'ISIC_0006651.jpg' moved successfully to 'ISIC-images/val/nevus'.\n",
      "File 'ISIC_0006671.jpg' moved successfully to 'ISIC-images/val/nevus'.\n",
      "File 'ISIC_0006815.jpg' moved successfully to 'ISIC-images/val/nevus'.\n",
      "File 'ISIC_0006914.jpg' moved successfully to 'ISIC-images/val/nevus'.\n",
      "File 'ISIC_0007141.jpg' moved successfully to 'ISIC-images/val/nevus'.\n",
      "File 'ISIC_0007156.jpg' moved successfully to 'ISIC-images/val/nevus'.\n",
      "File 'ISIC_0007235.jpg' moved successfully to 'ISIC-images/val/nevus'.\n",
      "File 'ISIC_0007241.jpg' moved successfully to 'ISIC-images/val/nevus'.\n",
      "File 'ISIC_0007332.jpg' moved successfully to 'ISIC-images/val/nevus'.\n",
      "File 'ISIC_0007344.jpg' moved successfully to 'ISIC-images/val/nevus'.\n",
      "File 'ISIC_0007528.jpg' moved successfully to 'ISIC-images/val/nevus'.\n",
      "File 'ISIC_0007796.jpg' moved successfully to 'ISIC-images/val/nevus'.\n",
      "File 'ISIC_0008025.jpg' moved successfully to 'ISIC-images/val/nevus'.\n",
      "File 'ISIC_0008524.jpg' moved successfully to 'ISIC-images/val/nevus'.\n",
      "File 'ISIC_0009995.jpg' moved successfully to 'ISIC-images/val/nevus'.\n",
      "File 'ISIC_0010459.jpg' moved successfully to 'ISIC-images/val/nevus'.\n",
      "File 'ISIC_0012099.jpg' moved successfully to 'ISIC-images/val/melanoma'.\n",
      "File 'ISIC_0012109.jpg' moved successfully to 'ISIC-images/val/nevus'.\n",
      "File 'ISIC_0012126.jpg' moved successfully to 'ISIC-images/val/nevus'.\n",
      "File 'ISIC_0012127.jpg' moved successfully to 'ISIC-images/val/nevus'.\n",
      "File 'ISIC_0012143.jpg' moved successfully to 'ISIC-images/val/seborrheic_keratosis'.\n",
      "File 'ISIC_0012151.jpg' moved successfully to 'ISIC-images/val/melanoma'.\n",
      "File 'ISIC_0012159.jpg' moved successfully to 'ISIC-images/val/nevus'.\n",
      "File 'ISIC_0012160.jpg' moved successfully to 'ISIC-images/val/nevus'.\n",
      "File 'ISIC_0012191.jpg' moved successfully to 'ISIC-images/val/nevus'.\n",
      "File 'ISIC_0012201.jpg' moved successfully to 'ISIC-images/val/nevus'.\n",
      "File 'ISIC_0012204.jpg' moved successfully to 'ISIC-images/val/seborrheic_keratosis'.\n",
      "File 'ISIC_0012206.jpg' moved successfully to 'ISIC-images/val/nevus'.\n",
      "File 'ISIC_0012210.jpg' moved successfully to 'ISIC-images/val/seborrheic_keratosis'.\n",
      "File 'ISIC_0012221.jpg' moved successfully to 'ISIC-images/val/nevus'.\n",
      "File 'ISIC_0012222.jpg' moved successfully to 'ISIC-images/val/nevus'.\n",
      "File 'ISIC_0012254.jpg' moved successfully to 'ISIC-images/val/seborrheic_keratosis'.\n",
      "File 'ISIC_0012256.jpg' moved successfully to 'ISIC-images/val/nevus'.\n",
      "File 'ISIC_0012288.jpg' moved successfully to 'ISIC-images/val/melanoma'.\n",
      "File 'ISIC_0012306.jpg' moved successfully to 'ISIC-images/val/nevus'.\n",
      "File 'ISIC_0012313.jpg' moved successfully to 'ISIC-images/val/nevus'.\n",
      "File 'ISIC_0012316.jpg' moved successfully to 'ISIC-images/val/nevus'.\n",
      "File 'ISIC_0012335.jpg' moved successfully to 'ISIC-images/val/nevus'.\n",
      "File 'ISIC_0012380.jpg' moved successfully to 'ISIC-images/val/seborrheic_keratosis'.\n",
      "File 'ISIC_0012383.jpg' moved successfully to 'ISIC-images/val/seborrheic_keratosis'.\n",
      "File 'ISIC_0012400.jpg' moved successfully to 'ISIC-images/val/nevus'.\n",
      "File 'ISIC_0012417.jpg' moved successfully to 'ISIC-images/val/seborrheic_keratosis'.\n",
      "File 'ISIC_0012434.jpg' moved successfully to 'ISIC-images/val/melanoma'.\n",
      "File 'ISIC_0012492.jpg' moved successfully to 'ISIC-images/val/seborrheic_keratosis'.\n",
      "File 'ISIC_0012513.jpg' moved successfully to 'ISIC-images/val/seborrheic_keratosis'.\n",
      "File 'ISIC_0012538.jpg' moved successfully to 'ISIC-images/val/nevus'.\n",
      "File 'ISIC_0012547.jpg' moved successfully to 'ISIC-images/val/nevus'.\n",
      "File 'ISIC_0012660.jpg' moved successfully to 'ISIC-images/val/nevus'.\n",
      "File 'ISIC_0012684.jpg' moved successfully to 'ISIC-images/val/nevus'.\n",
      "File 'ISIC_0012720.jpg' moved successfully to 'ISIC-images/val/seborrheic_keratosis'.\n",
      "File 'ISIC_0012746.jpg' moved successfully to 'ISIC-images/val/nevus'.\n",
      "File 'ISIC_0012876.jpg' moved successfully to 'ISIC-images/val/nevus'.\n",
      "File 'ISIC_0012927.jpg' moved successfully to 'ISIC-images/val/seborrheic_keratosis'.\n",
      "File 'ISIC_0012956.jpg' moved successfully to 'ISIC-images/val/nevus'.\n",
      "File 'ISIC_0012959.jpg' moved successfully to 'ISIC-images/val/seborrheic_keratosis'.\n",
      "File 'ISIC_0012965.jpg' moved successfully to 'ISIC-images/val/nevus'.\n",
      "File 'ISIC_0013010.jpg' moved successfully to 'ISIC-images/val/nevus'.\n",
      "File 'ISIC_0013082.jpg' moved successfully to 'ISIC-images/val/nevus'.\n",
      "File 'ISIC_0013104.jpg' moved successfully to 'ISIC-images/val/nevus'.\n",
      "File 'ISIC_0013127.jpg' moved successfully to 'ISIC-images/val/seborrheic_keratosis'.\n",
      "File 'ISIC_0013128.jpg' moved successfully to 'ISIC-images/val/nevus'.\n",
      "File 'ISIC_0013132.jpg' moved successfully to 'ISIC-images/val/nevus'.\n",
      "File 'ISIC_0013188.jpg' moved successfully to 'ISIC-images/val/nevus'.\n",
      "File 'ISIC_0013215.jpg' moved successfully to 'ISIC-images/val/seborrheic_keratosis'.\n",
      "File 'ISIC_0013232.jpg' moved successfully to 'ISIC-images/val/melanoma'.\n",
      "File 'ISIC_0013421.jpg' moved successfully to 'ISIC-images/val/seborrheic_keratosis'.\n",
      "File 'ISIC_0013491.jpg' moved successfully to 'ISIC-images/val/melanoma'.\n",
      "File 'ISIC_0013501.jpg' moved successfully to 'ISIC-images/val/melanoma'.\n",
      "File 'ISIC_0013518.jpg' moved successfully to 'ISIC-images/val/melanoma'.\n",
      "File 'ISIC_0013527.jpg' moved successfully to 'ISIC-images/val/nevus'.\n",
      "File 'ISIC_0013549.jpg' moved successfully to 'ISIC-images/val/melanoma'.\n",
      "File 'ISIC_0013561.jpg' moved successfully to 'ISIC-images/val/nevus'.\n",
      "File 'ISIC_0013562.jpg' moved successfully to 'ISIC-images/val/nevus'.\n",
      "File 'ISIC_0013632.jpg' moved successfully to 'ISIC-images/val/seborrheic_keratosis'.\n",
      "File 'ISIC_0013637.jpg' moved successfully to 'ISIC-images/val/seborrheic_keratosis'.\n",
      "File 'ISIC_0013644.jpg' moved successfully to 'ISIC-images/val/melanoma'.\n",
      "File 'ISIC_0013651.jpg' moved successfully to 'ISIC-images/val/melanoma'.\n",
      "File 'ISIC_0013663.jpg' moved successfully to 'ISIC-images/val/melanoma'.\n",
      "File 'ISIC_0013702.jpg' moved successfully to 'ISIC-images/val/melanoma'.\n",
      "File 'ISIC_0013736.jpg' moved successfully to 'ISIC-images/val/melanoma'.\n",
      "File 'ISIC_0013793.jpg' moved successfully to 'ISIC-images/val/nevus'.\n",
      "File 'ISIC_0013828.jpg' moved successfully to 'ISIC-images/val/melanoma'.\n",
      "File 'ISIC_0013863.jpg' moved successfully to 'ISIC-images/val/seborrheic_keratosis'.\n",
      "File 'ISIC_0013898.jpg' moved successfully to 'ISIC-images/val/nevus'.\n",
      "File 'ISIC_0013945.jpg' moved successfully to 'ISIC-images/val/seborrheic_keratosis'.\n",
      "File 'ISIC_0014037.jpg' moved successfully to 'ISIC-images/val/melanoma'.\n",
      "File 'ISIC_0014038.jpg' moved successfully to 'ISIC-images/val/seborrheic_keratosis'.\n",
      "File 'ISIC_0014055.jpg' moved successfully to 'ISIC-images/val/seborrheic_keratosis'.\n",
      "File 'ISIC_0014139.jpg' moved successfully to 'ISIC-images/val/seborrheic_keratosis'.\n",
      "File 'ISIC_0014162.jpg' moved successfully to 'ISIC-images/val/nevus'.\n",
      "File 'ISIC_0014178.jpg' moved successfully to 'ISIC-images/val/nevus'.\n",
      "File 'ISIC_0014211.jpg' moved successfully to 'ISIC-images/val/nevus'.\n",
      "File 'ISIC_0014212.jpg' moved successfully to 'ISIC-images/val/seborrheic_keratosis'.\n",
      "File 'ISIC_0014217.jpg' moved successfully to 'ISIC-images/val/melanoma'.\n",
      "File 'ISIC_0014302.jpg' moved successfully to 'ISIC-images/val/melanoma'.\n",
      "File 'ISIC_0014310.jpg' moved successfully to 'ISIC-images/val/seborrheic_keratosis'.\n",
      "File 'ISIC_0014382.jpg' moved successfully to 'ISIC-images/val/seborrheic_keratosis'.\n",
      "File 'ISIC_0014428.jpg' moved successfully to 'ISIC-images/val/melanoma'.\n",
      "File 'ISIC_0014558.jpg' moved successfully to 'ISIC-images/val/melanoma'.\n",
      "File 'ISIC_0014568.jpg' moved successfully to 'ISIC-images/val/seborrheic_keratosis'.\n",
      "File 'ISIC_0014572.jpg' moved successfully to 'ISIC-images/val/seborrheic_keratosis'.\n",
      "File 'ISIC_0014597.jpg' moved successfully to 'ISIC-images/val/seborrheic_keratosis'.\n",
      "File 'ISIC_0014601.jpg' moved successfully to 'ISIC-images/val/seborrheic_keratosis'.\n",
      "File 'ISIC_0014608.jpg' moved successfully to 'ISIC-images/val/seborrheic_keratosis'.\n",
      "File 'ISIC_0014610.jpg' moved successfully to 'ISIC-images/val/seborrheic_keratosis'.\n",
      "File 'ISIC_0014611.jpg' moved successfully to 'ISIC-images/val/seborrheic_keratosis'.\n",
      "File 'ISIC_0014616.jpg' moved successfully to 'ISIC-images/val/seborrheic_keratosis'.\n",
      "File 'ISIC_0014618.jpg' moved successfully to 'ISIC-images/val/seborrheic_keratosis'.\n",
      "File 'ISIC_0014620.jpg' moved successfully to 'ISIC-images/val/seborrheic_keratosis'.\n",
      "File 'ISIC_0014623.jpg' moved successfully to 'ISIC-images/val/seborrheic_keratosis'.\n",
      "File 'ISIC_0014624.jpg' moved successfully to 'ISIC-images/val/seborrheic_keratosis'.\n",
      "File 'ISIC_0014633.jpg' moved successfully to 'ISIC-images/val/seborrheic_keratosis'.\n",
      "File 'ISIC_0014635.jpg' moved successfully to 'ISIC-images/val/seborrheic_keratosis'.\n",
      "File 'ISIC_0014637.jpg' moved successfully to 'ISIC-images/val/seborrheic_keratosis'.\n",
      "File 'ISIC_0014688.jpg' moved successfully to 'ISIC-images/val/melanoma'.\n",
      "File 'ISIC_0014712.jpg' moved successfully to 'ISIC-images/val/seborrheic_keratosis'.\n",
      "File 'ISIC_0014809.jpg' moved successfully to 'ISIC-images/val/melanoma'.\n",
      "File 'ISIC_0014829.jpg' moved successfully to 'ISIC-images/val/nevus'.\n",
      "File 'ISIC_0014857.jpg' moved successfully to 'ISIC-images/val/melanoma'.\n",
      "File 'ISIC_0014931.jpg' moved successfully to 'ISIC-images/val/melanoma'.\n",
      "File 'ISIC_0014937.jpg' moved successfully to 'ISIC-images/val/nevus'.\n",
      "File 'ISIC_0014945.jpg' moved successfully to 'ISIC-images/val/nevus'.\n",
      "File 'ISIC_0014946.jpg' moved successfully to 'ISIC-images/val/melanoma'.\n",
      "File 'ISIC_0014979.jpg' moved successfully to 'ISIC-images/val/melanoma'.\n",
      "File 'ISIC_0014985.jpg' moved successfully to 'ISIC-images/val/melanoma'.\n",
      "File 'ISIC_0014989.jpg' moved successfully to 'ISIC-images/val/nevus'.\n",
      "File 'ISIC_0015043.jpg' moved successfully to 'ISIC-images/val/nevus'.\n",
      "File 'ISIC_0015062.jpg' moved successfully to 'ISIC-images/val/seborrheic_keratosis'.\n",
      "File 'ISIC_0015124.jpg' moved successfully to 'ISIC-images/val/melanoma'.\n",
      "File 'ISIC_0015144.jpg' moved successfully to 'ISIC-images/val/nevus'.\n",
      "File 'ISIC_0015211.jpg' moved successfully to 'ISIC-images/val/nevus'.\n"
     ]
    },
    {
     "name": "stdout",
     "output_type": "stream",
     "text": [
      "File 'ISIC_0015243.jpg' moved successfully to 'ISIC-images/val/melanoma'.\n",
      "File 'ISIC_0015256.jpg' moved successfully to 'ISIC-images/val/melanoma'.\n",
      "File 'ISIC_0015313.jpg' moved successfully to 'ISIC-images/val/nevus'.\n",
      "File 'ISIC_0015372.jpg' moved successfully to 'ISIC-images/val/nevus'.\n",
      "File 'ISIC_0015401.jpg' moved successfully to 'ISIC-images/val/nevus'.\n",
      "File 'ISIC_0015443.jpg' moved successfully to 'ISIC-images/val/nevus'.\n",
      "File 'ISIC_0015445.jpg' moved successfully to 'ISIC-images/val/nevus'.\n",
      "File 'ISIC_0015483.jpg' moved successfully to 'ISIC-images/val/nevus'.\n",
      "File 'ISIC_0015496.jpg' moved successfully to 'ISIC-images/val/nevus'.\n",
      "File 'ISIC_0015627.jpg' moved successfully to 'ISIC-images/val/nevus'.\n"
     ]
    }
   ],
   "source": [
    "directory_path = 'ISIC-images'\n",
    "\n",
    "# List all files in the directory\n",
    "files_with_extensions = os.listdir(directory_path)\n",
    "\n",
    "files_without_extension = [os.path.splitext(file)[0] for file in files_with_extensions]\n",
    "\n",
    "for file in files_without_extension:\n",
    "    is_file_in_dataset = file in df['isic_id'].values\n",
    "    if is_file_in_dataset:\n",
    "        if df[df.isic_id == file].diagnosis.values[0]==\"melanoma\":\n",
    "            move_file(file+\".jpg\", directory_path, directory_path+\"/val/melanoma\")\n",
    "        if df[df.isic_id == file].diagnosis.values[0]==\"nevus\":\n",
    "            move_file(file+\".jpg\", directory_path, directory_path+\"/val/nevus\")\n",
    "        if df[df.isic_id == file].diagnosis.values[0]==\"seborrheic keratosis\":\n",
    "            move_file(file+\".jpg\", directory_path, directory_path+\"/val/seborrheic_keratosis\")"
   ]
  },
  {
   "cell_type": "code",
   "execution_count": 60,
   "id": "e88fbd50",
   "metadata": {},
   "outputs": [
    {
     "data": {
      "text/plain": [
       "'benign'"
      ]
     },
     "execution_count": 60,
     "metadata": {},
     "output_type": "execute_result"
    }
   ],
   "source": [
    "df[df.isic_id == \"ISIC_0012178\"].benign_malignant.values[0]"
   ]
  },
  {
   "cell_type": "code",
   "execution_count": 68,
   "id": "eb3d8aa1",
   "metadata": {},
   "outputs": [
    {
     "data": {
      "text/plain": [
       "'seborrheic keratosis'"
      ]
     },
     "execution_count": 68,
     "metadata": {},
     "output_type": "execute_result"
    }
   ],
   "source": [
    "df[df.isic_id == \"ISIC_0012955\"].diagnosis.values[0]"
   ]
  }
 ],
 "metadata": {
  "kernelspec": {
   "display_name": "Python 3 (ipykernel)",
   "language": "python",
   "name": "python3"
  },
  "language_info": {
   "codemirror_mode": {
    "name": "ipython",
    "version": 3
   },
   "file_extension": ".py",
   "mimetype": "text/x-python",
   "name": "python",
   "nbconvert_exporter": "python",
   "pygments_lexer": "ipython3",
   "version": "3.9.0"
  }
 },
 "nbformat": 4,
 "nbformat_minor": 5
}
